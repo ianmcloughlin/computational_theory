{
 "cells": [
  {
   "cell_type": "markdown",
   "metadata": {},
   "source": [
    "# Binary Representations"
   ]
  },
  {
   "cell_type": "code",
   "execution_count": 1,
   "metadata": {},
   "outputs": [],
   "source": [
    "# Binary structures.\n",
    "import struct"
   ]
  },
  {
   "cell_type": "markdown",
   "metadata": {},
   "source": [
    "## Motivation"
   ]
  },
  {
   "cell_type": "markdown",
   "metadata": {},
   "source": [
    "> [FIPS PUB 180-4](https://doi.org/10.6028/NIST.FIPS.180-4)  \n",
    "> Secure Hash Standard  \n",
    "> Information Technology Laboratory  \n",
    "> National Institute of Standards and Technology  \n",
    "> U.S. Department of Commerce  "
   ]
  },
  {
   "cell_type": "markdown",
   "metadata": {},
   "source": [
    "## Types"
   ]
  },
  {
   "cell_type": "markdown",
   "metadata": {},
   "source": [
    "https://realpython.com/python-data-types/"
   ]
  },
  {
   "cell_type": "code",
   "execution_count": 2,
   "metadata": {},
   "outputs": [],
   "source": [
    "# Create a new variable, assign the literal 5.\n",
    "i  = 5"
   ]
  },
  {
   "cell_type": "code",
   "execution_count": null,
   "metadata": {},
   "outputs": [],
   "source": [
    "# What type does i have?\n",
    "type(i)"
   ]
  },
  {
   "cell_type": "code",
   "execution_count": 4,
   "metadata": {},
   "outputs": [],
   "source": [
    "# Create a new variable, assign the literal 5.0.\n",
    "f = 5.0"
   ]
  },
  {
   "cell_type": "code",
   "execution_count": null,
   "metadata": {},
   "outputs": [],
   "source": [
    "# What type does f have?\n",
    "type(f)"
   ]
  },
  {
   "cell_type": "code",
   "execution_count": 6,
   "metadata": {},
   "outputs": [],
   "source": [
    "# Create a new variable, assign the literal \"5\".\n",
    "s = \"5\""
   ]
  },
  {
   "cell_type": "code",
   "execution_count": null,
   "metadata": {},
   "outputs": [],
   "source": [
    "# What type does s have?\n",
    "type(s)"
   ]
  },
  {
   "cell_type": "code",
   "execution_count": null,
   "metadata": {},
   "outputs": [],
   "source": [
    "# Size of i.\n",
    "i.bit_length()"
   ]
  },
  {
   "cell_type": "code",
   "execution_count": null,
   "metadata": {},
   "outputs": [],
   "source": [
    "# Show i in binary.\n",
    "bin(i)"
   ]
  },
  {
   "cell_type": "code",
   "execution_count": 10,
   "metadata": {},
   "outputs": [],
   "source": [
    "# A really bit int.\n",
    "really_big = 3469803460834690825830628609824685390685709348734097830599874974039874"
   ]
  },
  {
   "cell_type": "code",
   "execution_count": null,
   "metadata": {},
   "outputs": [],
   "source": [
    "type(really_big)"
   ]
  },
  {
   "cell_type": "code",
   "execution_count": null,
   "metadata": {},
   "outputs": [],
   "source": [
    "really_big.bit_length()"
   ]
  },
  {
   "cell_type": "markdown",
   "metadata": {},
   "source": [
    "## Sizes"
   ]
  },
  {
   "cell_type": "markdown",
   "metadata": {},
   "source": [
    "[int.bit_length()](https://docs.python.org/3/library/stdtypes.html#int.bit_length)  "
   ]
  },
  {
   "cell_type": "code",
   "execution_count": null,
   "metadata": {},
   "outputs": [],
   "source": [
    "# Number of bits in i.~\n",
    "for i in range(0, 101, 7):\n",
    "    print(f\"{i:10b}{i.bit_length():10d}{i.bit_count():10d}\")"
   ]
  },
  {
   "cell_type": "markdown",
   "metadata": {},
   "source": [
    "[Floating-Point Numbers, Real Python](https://realpython.com/python-bitwise-operators/#floating-point-numbers)  \n",
    "\n",
    "[IEEE 754, WikiPedia](https://en.wikipedia.org/wiki/IEEE_754)  "
   ]
  },
  {
   "cell_type": "code",
   "execution_count": null,
   "metadata": {},
   "outputs": [],
   "source": []
  },
  {
   "cell_type": "markdown",
   "metadata": {},
   "source": [
    "## Bitwise Operators"
   ]
  },
  {
   "cell_type": "markdown",
   "metadata": {},
   "source": [
    "https://wiki.python.org/moin/BitwiseOperators"
   ]
  },
  {
   "cell_type": "code",
   "execution_count": null,
   "metadata": {},
   "outputs": [],
   "source": [
    "# 12\n",
    "a = 0b1100\n",
    "\n",
    "# Decimal.\n",
    "print(a)\n",
    "\n",
    "# Binary.\n",
    "print(bin(a))\n",
    "\n",
    "# Hexadecimal.\n",
    "print(hex(a))"
   ]
  },
  {
   "cell_type": "code",
   "execution_count": null,
   "metadata": {},
   "outputs": [],
   "source": [
    "# 10\n",
    "b = 0b1010\n",
    "\n",
    "# Decimal.\n",
    "print(b)\n",
    "\n",
    "# Binary.\n",
    "print(bin(b))\n",
    "\n",
    "# Hexadecimal.\n",
    "print(hex(b))"
   ]
  },
  {
   "cell_type": "markdown",
   "metadata": {},
   "source": [
    "## Bitwise AND (`&`)\n",
    "\n",
    "\n",
    "https://docs.python.org/3/library/stdtypes.html#bitwise-and  \n",
    "\n",
    "Performs a bitwise AND on two numbers.  \n",
    "Each bit is compared; if both are `1`, the result is `1`. Otherwise, it is `0`."
   ]
  },
  {
   "cell_type": "code",
   "execution_count": null,
   "metadata": {},
   "outputs": [],
   "source": [
    "# 0b0001\n",
    "result = a & b\n",
    "\n",
    "# Print result in decimal.\n",
    "print(result)\n",
    "\n",
    "# Print result in binary.\n",
    "print(bin(result))"
   ]
  },
  {
   "cell_type": "code",
   "execution_count": null,
   "metadata": {},
   "outputs": [],
   "source": [
    "# Print a using f-strings.\n",
    "print(f'  a: {a:04b}')\n",
    "\n",
    "# Print b using f-strings.\n",
    "print(f'  b: {b:04b}')\n",
    "\n",
    "# Print a&b using f-strings.\n",
    "print(f'a&b: {a&b:04b}')"
   ]
  },
  {
   "cell_type": "markdown",
   "metadata": {},
   "source": [
    "## Bitwise OR (`|`)\n",
    "\n",
    "Performs a bitwise OR.  \n",
    "Each bit is compared; if either is `1`, the result is `1`.\n",
    "\n",
    "https://docs.python.org/3/library/stdtypes.html#bitwise-or"
   ]
  },
  {
   "cell_type": "code",
   "execution_count": null,
   "metadata": {},
   "outputs": [],
   "source": [
    "# Print a using f-strings.\n",
    "print(f'  a: {a:04b}')\n",
    "\n",
    "# Print b using f-strings.\n",
    "print(f'  b: {b:04b}')\n",
    "\n",
    "# Print a|b using f-strings.\n",
    "print(f'a|b: {a|b:04b}')"
   ]
  },
  {
   "cell_type": "markdown",
   "metadata": {},
   "source": [
    "## Bitwise XOR (`^`)\n",
    "\n",
    "Performs a bitwise XOR.  \n",
    "\n",
    "Each bit is compared; if one is `1` and the other is `0`, the result is `1`.\n",
    "\n",
    "https://docs.python.org/3/library/stdtypes.html#bitwise-xor"
   ]
  },
  {
   "cell_type": "code",
   "execution_count": null,
   "metadata": {},
   "outputs": [],
   "source": [
    "# Print a using f-strings.\n",
    "print(f'  a: {a:04b}')\n",
    "\n",
    "# Print b using f-strings.\n",
    "print(f'  b: {b:04b}')\n",
    "\n",
    "# Print a^b using f-strings.\n",
    "print(f'a^b: {a^b:04b}')"
   ]
  },
  {
   "cell_type": "markdown",
   "metadata": {},
   "source": [
    "## Bitwise NOT (`~`)\n",
    "\n",
    "Performs a bitwise NOT.  \n",
    "\n",
    "Inverts all bits: `0` becomes `1` and `1` becomes `0`.  \n",
    "\n",
    "https://docs.python.org/3/library/stdtypes.html#bitwise-invert\n"
   ]
  },
  {
   "cell_type": "code",
   "execution_count": null,
   "metadata": {},
   "outputs": [],
   "source": [
    "# Print a using f-strings.\n",
    "print(f'  a: {a:04b}')\n",
    "\n",
    "# Print ~a using f-strings.\n",
    "print(f' ~a: {~a:04b}')\n",
    "\n",
    "# Print ~a using f-strings, unsigned.\n",
    "print(f' ~a: {~a&0xF:04b}')"
   ]
  },
  {
   "cell_type": "markdown",
   "metadata": {},
   "source": [
    "## Left Shift (`<<`)\n",
    "Shifts the bits to the left by a specified number of positions.  \n",
    "Adds zeros to the right.\n",
    "\n",
    "https://docs.python.org/3/library/stdtypes.html#bitwise-left-shift\n"
   ]
  },
  {
   "cell_type": "code",
   "execution_count": null,
   "metadata": {},
   "outputs": [],
   "source": [
    "result = a << 1  # 0b1010 -> 10\n",
    "result"
   ]
  },
  {
   "cell_type": "markdown",
   "metadata": {},
   "source": [
    "## Right Shift (`>>`)\n",
    "\n",
    "Shifts the bits to the right by a specified number of positions.  \n",
    "Drops bits from the right.  \n",
    "\n",
    "https://docs.python.org/3/library/stdtypes.html#bitwise-right-shift\n"
   ]
  },
  {
   "cell_type": "code",
   "execution_count": null,
   "metadata": {},
   "outputs": [],
   "source": [
    "result = a >> 1  # 0b0010 -> 2\n",
    "result"
   ]
  },
  {
   "cell_type": "markdown",
   "metadata": {},
   "source": [
    "## Negative Integers in Bits\n",
    "\n",
    "Negative integers are represented in **two's complement**.  \n",
    "To get the two's complement:\n",
    "1. Invert all bits.\n",
    "2. Add `1` to the result.\n",
    "\n",
    "In two's complement:\n",
    "- The leftmost bit indicates the sign.\n",
    "- `0` means positive.\n",
    "- `1` means negative."
   ]
  },
  {
   "cell_type": "code",
   "execution_count": null,
   "metadata": {},
   "outputs": [],
   "source": [
    "# Print binary of number 0 to 15 with the binary of the negative of the number.\n",
    "for i in range(16):\n",
    "    print(f'{i:02} {i:04b} {(-i)&0xF:04b}')"
   ]
  },
  {
   "cell_type": "markdown",
   "metadata": {},
   "source": [
    "## Hex"
   ]
  },
  {
   "cell_type": "code",
   "execution_count": null,
   "metadata": {},
   "outputs": [],
   "source": [
    "# Print a table of 0 to 15 in decimal, binary, and hexadecimal.\n",
    "for i in range(16):\n",
    "    print(f'{i:02} {i:04b} {i:02X}')"
   ]
  },
  {
   "cell_type": "code",
   "execution_count": null,
   "metadata": {},
   "outputs": [],
   "source": [
    "# Bitwise operations using hex.\n",
    "print(f'{0x0C:02X} & {0x0A:02X} = {0x0C & 0x0A:02X}')"
   ]
  },
  {
   "cell_type": "markdown",
   "metadata": {},
   "source": [
    "## `struct`\n",
    "\n",
    "https://docs.python.org/3/library/struct.html"
   ]
  },
  {
   "cell_type": "markdown",
   "metadata": {},
   "source": [
    "From: The C Programming Language by Brian Kernighan and Dennis Ritchie.\n",
    "\n",
    "```c\n",
    "struct point {\n",
    "    int x;\n",
    "    int y;\n",
    "};\n",
    "```\n",
    "\n",
    "```c\n",
    "struct rect {\n",
    "    struct point pt1;\n",
    "    struct point pt2;\n",
    "};\n",
    "```\n",
    "\n",
    "```c\n",
    "/* addpoints: add two points */\n",
    "struct addpoint(struct point p1, struct point p2) {\n",
    "    p1.x += p2.x;\n",
    "    p1.y += p2.y;\n",
    "    \n",
    "    return p1;\n",
    "}\n",
    "```"
   ]
  },
  {
   "cell_type": "code",
   "execution_count": null,
   "metadata": {},
   "outputs": [],
   "source": [
    "# Big endian.\n",
    "struct.pack('>h', 1023)\n",
    "\n",
    "# Little endian.\n",
    "struct.pack('<h', 1023)"
   ]
  },
  {
   "cell_type": "code",
   "execution_count": null,
   "metadata": {},
   "outputs": [],
   "source": [
    "# Value.\n",
    "f = 3.14159\n",
    "\n",
    "# Pack a float into a struct.\n",
    "x = struct.pack('>f', f)\n",
    "\n",
    "# Unpack struct into a float.\n",
    "x = struct.unpack('>l', x)[0]\n",
    "\n",
    "# Show.\n",
    "print(f\"{f:4.2f} {x:064b}\")"
   ]
  },
  {
   "cell_type": "markdown",
   "metadata": {},
   "source": [
    "## End"
   ]
  }
 ],
 "metadata": {
  "kernelspec": {
   "display_name": "Python 3",
   "language": "python",
   "name": "python3"
  },
  "language_info": {
   "codemirror_mode": {
    "name": "ipython",
    "version": 3
   },
   "file_extension": ".py",
   "mimetype": "text/x-python",
   "name": "python",
   "nbconvert_exporter": "python",
   "pygments_lexer": "ipython3",
   "version": "3.12.1"
  }
 },
 "nbformat": 4,
 "nbformat_minor": 2
}
