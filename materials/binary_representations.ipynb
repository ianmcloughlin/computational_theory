{
 "cells": [
  {
   "cell_type": "markdown",
   "metadata": {},
   "source": [
    "# Binary Representations"
   ]
  },
  {
   "cell_type": "code",
   "execution_count": 1,
   "metadata": {},
   "outputs": [],
   "source": [
    "# Binary structures.\n",
    "import struct"
   ]
  },
  {
   "cell_type": "markdown",
   "metadata": {},
   "source": [
    "## Motivation"
   ]
  },
  {
   "cell_type": "markdown",
   "metadata": {},
   "source": [
    "> [FIPS PUB 180-4](https://doi.org/10.6028/NIST.FIPS.180-4)  \n",
    "> Secure Hash Standard  \n",
    "> Information Technology Laboratory  \n",
    "> National Institute of Standards and Technology  \n",
    "> U.S. Department of Commerce  "
   ]
  },
  {
   "cell_type": "markdown",
   "metadata": {},
   "source": [
    "## Types"
   ]
  },
  {
   "cell_type": "markdown",
   "metadata": {},
   "source": [
    "https://realpython.com/python-data-types/"
   ]
  },
  {
   "cell_type": "code",
   "execution_count": 2,
   "metadata": {},
   "outputs": [],
   "source": [
    "# Create a new variable, assign the literal 5.\n",
    "i  = 5"
   ]
  },
  {
   "cell_type": "code",
   "execution_count": 3,
   "metadata": {},
   "outputs": [
    {
     "data": {
      "text/plain": [
       "int"
      ]
     },
     "execution_count": 3,
     "metadata": {},
     "output_type": "execute_result"
    }
   ],
   "source": [
    "# What type does i have?\n",
    "type(i)"
   ]
  },
  {
   "cell_type": "code",
   "execution_count": 4,
   "metadata": {},
   "outputs": [],
   "source": [
    "# Create a new variable, assign the literal 5.0.\n",
    "f = 5.0"
   ]
  },
  {
   "cell_type": "code",
   "execution_count": 5,
   "metadata": {},
   "outputs": [
    {
     "data": {
      "text/plain": [
       "float"
      ]
     },
     "execution_count": 5,
     "metadata": {},
     "output_type": "execute_result"
    }
   ],
   "source": [
    "# What type does f have?\n",
    "type(f)"
   ]
  },
  {
   "cell_type": "code",
   "execution_count": 6,
   "metadata": {},
   "outputs": [],
   "source": [
    "# Create a new variable, assign the literal \"5\".\n",
    "s = \"5\""
   ]
  },
  {
   "cell_type": "code",
   "execution_count": 7,
   "metadata": {},
   "outputs": [
    {
     "data": {
      "text/plain": [
       "str"
      ]
     },
     "execution_count": 7,
     "metadata": {},
     "output_type": "execute_result"
    }
   ],
   "source": [
    "# What type does s have?\n",
    "type(s)"
   ]
  },
  {
   "cell_type": "code",
   "execution_count": 8,
   "metadata": {},
   "outputs": [
    {
     "data": {
      "text/plain": [
       "3"
      ]
     },
     "execution_count": 8,
     "metadata": {},
     "output_type": "execute_result"
    }
   ],
   "source": [
    "# Size of i.\n",
    "i.bit_length()"
   ]
  },
  {
   "cell_type": "code",
   "execution_count": 9,
   "metadata": {},
   "outputs": [
    {
     "data": {
      "text/plain": [
       "'0b101'"
      ]
     },
     "execution_count": 9,
     "metadata": {},
     "output_type": "execute_result"
    }
   ],
   "source": [
    "# Show i in binary.\n",
    "bin(i)"
   ]
  },
  {
   "cell_type": "code",
   "execution_count": 10,
   "metadata": {},
   "outputs": [],
   "source": [
    "# A really bit int.\n",
    "really_big = 3469803460834690825830628609824685390685709348734097830599874974039874"
   ]
  },
  {
   "cell_type": "code",
   "execution_count": 11,
   "metadata": {},
   "outputs": [
    {
     "data": {
      "text/plain": [
       "int"
      ]
     },
     "execution_count": 11,
     "metadata": {},
     "output_type": "execute_result"
    }
   ],
   "source": [
    "type(really_big)"
   ]
  },
  {
   "cell_type": "code",
   "execution_count": 12,
   "metadata": {},
   "outputs": [
    {
     "data": {
      "text/plain": [
       "232"
      ]
     },
     "execution_count": 12,
     "metadata": {},
     "output_type": "execute_result"
    }
   ],
   "source": [
    "really_big.bit_length()"
   ]
  },
  {
   "cell_type": "markdown",
   "metadata": {},
   "source": [
    "## Sizes"
   ]
  },
  {
   "cell_type": "markdown",
   "metadata": {},
   "source": [
    "[int.bit_length()](https://docs.python.org/3/library/stdtypes.html#int.bit_length)  "
   ]
  },
  {
   "cell_type": "code",
   "execution_count": 13,
   "metadata": {},
   "outputs": [
    {
     "name": "stdout",
     "output_type": "stream",
     "text": [
      "         0         0         0\n",
      "       111         3         3\n",
      "      1110         4         3\n",
      "     10101         5         3\n",
      "     11100         5         3\n",
      "    100011         6         3\n",
      "    101010         6         3\n",
      "    110001         6         3\n",
      "    111000         6         3\n",
      "    111111         6         6\n",
      "   1000110         7         3\n",
      "   1001101         7         4\n",
      "   1010100         7         3\n",
      "   1011011         7         5\n",
      "   1100010         7         3\n"
     ]
    }
   ],
   "source": [
    "# Number of bits in i.~\n",
    "for i in range(0, 101, 7):\n",
    "    print(f\"{i:10b}{i.bit_length():10d}{i.bit_count():10d}\")"
   ]
  },
  {
   "cell_type": "markdown",
   "metadata": {},
   "source": [
    "[Floating-Point Numbers, Real Python](https://realpython.com/python-bitwise-operators/#floating-point-numbers)  \n",
    "\n",
    "[IEEE 754, WikiPedia](https://en.wikipedia.org/wiki/IEEE_754)  "
   ]
  },
  {
   "cell_type": "code",
   "execution_count": null,
   "metadata": {},
   "outputs": [],
   "source": []
  },
  {
   "cell_type": "markdown",
   "metadata": {},
   "source": [
    "## Bitwise Operators"
   ]
  },
  {
   "cell_type": "markdown",
   "metadata": {},
   "source": [
    "https://wiki.python.org/moin/BitwiseOperators"
   ]
  },
  {
   "cell_type": "code",
   "execution_count": 14,
   "metadata": {},
   "outputs": [
    {
     "name": "stdout",
     "output_type": "stream",
     "text": [
      "12\n",
      "0b1100\n",
      "0xc\n"
     ]
    }
   ],
   "source": [
    "# 12\n",
    "a = 0b1100\n",
    "\n",
    "# Decimal.\n",
    "print(a)\n",
    "\n",
    "# Binary.\n",
    "print(bin(a))\n",
    "\n",
    "# Hexadecimal.\n",
    "print(hex(a))"
   ]
  },
  {
   "cell_type": "code",
   "execution_count": 15,
   "metadata": {},
   "outputs": [
    {
     "name": "stdout",
     "output_type": "stream",
     "text": [
      "10\n",
      "0b1010\n",
      "0xa\n"
     ]
    }
   ],
   "source": [
    "# 10\n",
    "b = 0b1010\n",
    "\n",
    "# Decimal.\n",
    "print(b)\n",
    "\n",
    "# Binary.\n",
    "print(bin(b))\n",
    "\n",
    "# Hexadecimal.\n",
    "print(hex(b))"
   ]
  },
  {
   "cell_type": "markdown",
   "metadata": {},
   "source": [
    "## Bitwise AND (`&`)\n",
    "\n",
    "\n",
    "https://docs.python.org/3/library/stdtypes.html#bitwise-and  \n",
    "\n",
    "Performs a bitwise AND on two numbers.  \n",
    "Each bit is compared; if both are `1`, the result is `1`. Otherwise, it is `0`."
   ]
  },
  {
   "cell_type": "code",
   "execution_count": 16,
   "metadata": {},
   "outputs": [
    {
     "name": "stdout",
     "output_type": "stream",
     "text": [
      "8\n",
      "0b1000\n"
     ]
    }
   ],
   "source": [
    "# 0b0001\n",
    "result = a & b\n",
    "\n",
    "# Print result in decimal.\n",
    "print(result)\n",
    "\n",
    "# Print result in binary.\n",
    "print(bin(result))"
   ]
  },
  {
   "cell_type": "code",
   "execution_count": 17,
   "metadata": {},
   "outputs": [
    {
     "name": "stdout",
     "output_type": "stream",
     "text": [
      "  a: 1100\n",
      "  b: 1010\n",
      "a&b: 1000\n"
     ]
    }
   ],
   "source": [
    "# Print a using f-strings.\n",
    "print(f'  a: {a:04b}')\n",
    "\n",
    "# Print b using f-strings.\n",
    "print(f'  b: {b:04b}')\n",
    "\n",
    "# Print a&b using f-strings.\n",
    "print(f'a&b: {a&b:04b}')"
   ]
  },
  {
   "cell_type": "markdown",
   "metadata": {},
   "source": [
    "## Bitwise OR (`|`)\n",
    "\n",
    "Performs a bitwise OR.  \n",
    "Each bit is compared; if either is `1`, the result is `1`.\n",
    "\n",
    "https://docs.python.org/3/library/stdtypes.html#bitwise-or"
   ]
  },
  {
   "cell_type": "code",
   "execution_count": 18,
   "metadata": {},
   "outputs": [
    {
     "name": "stdout",
     "output_type": "stream",
     "text": [
      "  a: 1100\n",
      "  b: 1010\n",
      "a|b: 1110\n"
     ]
    }
   ],
   "source": [
    "# Print a using f-strings.\n",
    "print(f'  a: {a:04b}')\n",
    "\n",
    "# Print b using f-strings.\n",
    "print(f'  b: {b:04b}')\n",
    "\n",
    "# Print a|b using f-strings.\n",
    "print(f'a|b: {a|b:04b}')"
   ]
  },
  {
   "cell_type": "markdown",
   "metadata": {},
   "source": [
    "## Bitwise XOR (`^`)\n",
    "\n",
    "Performs a bitwise XOR.  \n",
    "\n",
    "Each bit is compared; if one is `1` and the other is `0`, the result is `1`.\n",
    "\n",
    "https://docs.python.org/3/library/stdtypes.html#bitwise-xor"
   ]
  },
  {
   "cell_type": "code",
   "execution_count": 19,
   "metadata": {},
   "outputs": [
    {
     "name": "stdout",
     "output_type": "stream",
     "text": [
      "  a: 1100\n",
      "  b: 1010\n",
      "a^b: 0110\n"
     ]
    }
   ],
   "source": [
    "# Print a using f-strings.\n",
    "print(f'  a: {a:04b}')\n",
    "\n",
    "# Print b using f-strings.\n",
    "print(f'  b: {b:04b}')\n",
    "\n",
    "# Print a^b using f-strings.\n",
    "print(f'a^b: {a^b:04b}')"
   ]
  },
  {
   "cell_type": "markdown",
   "metadata": {},
   "source": [
    "## Bitwise NOT (`~`)\n",
    "\n",
    "Performs a bitwise NOT.  \n",
    "\n",
    "Inverts all bits: `0` becomes `1` and `1` becomes `0`.  \n",
    "\n",
    "https://docs.python.org/3/library/stdtypes.html#bitwise-invert\n"
   ]
  },
  {
   "cell_type": "code",
   "execution_count": 20,
   "metadata": {},
   "outputs": [
    {
     "name": "stdout",
     "output_type": "stream",
     "text": [
      "  a: 1100\n",
      " ~a: -1101\n",
      " ~a: 0011\n"
     ]
    }
   ],
   "source": [
    "# Print a using f-strings.\n",
    "print(f'  a: {a:04b}')\n",
    "\n",
    "# Print ~a using f-strings.\n",
    "print(f' ~a: {~a:04b}')\n",
    "\n",
    "# Print ~a using f-strings, unsigned.\n",
    "print(f' ~a: {~a&0xF:04b}')"
   ]
  },
  {
   "cell_type": "markdown",
   "metadata": {},
   "source": [
    "## Left Shift (`<<`)\n",
    "Shifts the bits to the left by a specified number of positions.  \n",
    "Adds zeros to the right.\n",
    "\n",
    "https://docs.python.org/3/library/stdtypes.html#bitwise-left-shift\n"
   ]
  },
  {
   "cell_type": "code",
   "execution_count": 21,
   "metadata": {},
   "outputs": [
    {
     "data": {
      "text/plain": [
       "24"
      ]
     },
     "execution_count": 21,
     "metadata": {},
     "output_type": "execute_result"
    }
   ],
   "source": [
    "result = a << 1  # 0b1010 -> 10\n",
    "result"
   ]
  },
  {
   "cell_type": "markdown",
   "metadata": {},
   "source": [
    "## Right Shift (`>>`)\n",
    "\n",
    "Shifts the bits to the right by a specified number of positions.  \n",
    "Drops bits from the right.  \n",
    "\n",
    "https://docs.python.org/3/library/stdtypes.html#bitwise-right-shift\n"
   ]
  },
  {
   "cell_type": "code",
   "execution_count": 22,
   "metadata": {},
   "outputs": [
    {
     "data": {
      "text/plain": [
       "6"
      ]
     },
     "execution_count": 22,
     "metadata": {},
     "output_type": "execute_result"
    }
   ],
   "source": [
    "result = a >> 1  # 0b0010 -> 2\n",
    "result"
   ]
  },
  {
   "cell_type": "markdown",
   "metadata": {},
   "source": [
    "## Negative Integers in Bits\n",
    "\n",
    "Negative integers are represented in **two's complement**.  \n",
    "To get the two's complement:\n",
    "1. Invert all bits.\n",
    "2. Add `1` to the result.\n",
    "\n",
    "In two's complement:\n",
    "- The leftmost bit indicates the sign.\n",
    "- `0` means positive.\n",
    "- `1` means negative."
   ]
  },
  {
   "cell_type": "code",
   "execution_count": 23,
   "metadata": {},
   "outputs": [
    {
     "name": "stdout",
     "output_type": "stream",
     "text": [
      "00 0000 0000\n",
      "01 0001 1111\n",
      "02 0010 1110\n",
      "03 0011 1101\n",
      "04 0100 1100\n",
      "05 0101 1011\n",
      "06 0110 1010\n",
      "07 0111 1001\n",
      "08 1000 1000\n",
      "09 1001 0111\n",
      "10 1010 0110\n",
      "11 1011 0101\n",
      "12 1100 0100\n",
      "13 1101 0011\n",
      "14 1110 0010\n",
      "15 1111 0001\n"
     ]
    }
   ],
   "source": [
    "# Print binary of number 0 to 15 with the binary of the negative of the number.\n",
    "for i in range(16):\n",
    "    print(f'{i:02} {i:04b} {(-i)&0xF:04b}')"
   ]
  },
  {
   "cell_type": "markdown",
   "metadata": {},
   "source": [
    "## Hex"
   ]
  },
  {
   "cell_type": "code",
   "execution_count": 24,
   "metadata": {},
   "outputs": [
    {
     "name": "stdout",
     "output_type": "stream",
     "text": [
      "00 0000 00\n",
      "01 0001 01\n",
      "02 0010 02\n",
      "03 0011 03\n",
      "04 0100 04\n",
      "05 0101 05\n",
      "06 0110 06\n",
      "07 0111 07\n",
      "08 1000 08\n",
      "09 1001 09\n",
      "10 1010 0A\n",
      "11 1011 0B\n",
      "12 1100 0C\n",
      "13 1101 0D\n",
      "14 1110 0E\n",
      "15 1111 0F\n"
     ]
    }
   ],
   "source": [
    "# Print a table of 0 to 15 in decimal, binary, and hexadecimal.\n",
    "for i in range(16):\n",
    "    print(f'{i:02} {i:04b} {i:02X}')"
   ]
  },
  {
   "cell_type": "code",
   "execution_count": 25,
   "metadata": {},
   "outputs": [
    {
     "name": "stdout",
     "output_type": "stream",
     "text": [
      "0C & 0A = 08\n"
     ]
    }
   ],
   "source": [
    "# Bitwise operations using hex.\n",
    "print(f'{0x0C:02X} & {0x0A:02X} = {0x0C & 0x0A:02X}')"
   ]
  },
  {
   "cell_type": "markdown",
   "metadata": {},
   "source": [
    "## `struct`\n",
    "\n",
    "https://docs.python.org/3/library/struct.html"
   ]
  },
  {
   "cell_type": "markdown",
   "metadata": {},
   "source": [
    "From: The C Programming Language by Brian Kernighan and Dennis Ritchie.\n",
    "\n",
    "```c\n",
    "struct point {\n",
    "    int x;\n",
    "    int y;\n",
    "};\n",
    "```\n",
    "\n",
    "```c\n",
    "struct rect {\n",
    "    struct point pt1;\n",
    "    struct point pt2;\n",
    "};\n",
    "```\n",
    "\n",
    "```c\n",
    "/* addpoints: add two points */\n",
    "struct addpoint(struct point p1, struct point p2) {\n",
    "    p1.x += p2.x;\n",
    "    p1.y += p2.y;\n",
    "    \n",
    "    return p1;\n",
    "}\n",
    "```"
   ]
  },
  {
   "cell_type": "code",
   "execution_count": 26,
   "metadata": {},
   "outputs": [
    {
     "data": {
      "text/plain": [
       "b'\\xff\\x03'"
      ]
     },
     "execution_count": 26,
     "metadata": {},
     "output_type": "execute_result"
    }
   ],
   "source": [
    "# Big endian.\n",
    "struct.pack('>h', 1023)\n",
    "\n",
    "# Little endian.\n",
    "struct.pack('<h', 1023)"
   ]
  },
  {
   "cell_type": "code",
   "execution_count": 27,
   "metadata": {},
   "outputs": [
    {
     "name": "stdout",
     "output_type": "stream",
     "text": [
      "3.14 0000000000000000000000000000000001000000010010010000111111010000\n"
     ]
    }
   ],
   "source": [
    "# Value.\n",
    "f = 3.14159\n",
    "\n",
    "# Pack a float into a struct.\n",
    "x = struct.pack('>f', f)\n",
    "\n",
    "# Unpack struct into a float.\n",
    "x = struct.unpack('>l', x)[0]\n",
    "\n",
    "# Show.\n",
    "print(f\"{f:4.2f} {x:064b}\")"
   ]
  },
  {
   "cell_type": "markdown",
   "metadata": {},
   "source": [
    "## End"
   ]
  }
 ],
 "metadata": {
  "kernelspec": {
   "display_name": "Python 3",
   "language": "python",
   "name": "python3"
  },
  "language_info": {
   "codemirror_mode": {
    "name": "ipython",
    "version": 3
   },
   "file_extension": ".py",
   "mimetype": "text/x-python",
   "name": "python",
   "nbconvert_exporter": "python",
   "pygments_lexer": "ipython3",
   "version": "3.12.1"
  }
 },
 "nbformat": 4,
 "nbformat_minor": 2
}
