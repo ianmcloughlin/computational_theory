{
 "cells": [
  {
   "cell_type": "markdown",
   "metadata": {},
   "source": [
    "# Secure Hash Function 256"
   ]
  },
  {
   "cell_type": "markdown",
   "metadata": {},
   "source": [
    "> [FIPS PUB 180-4](https://doi.org/10.6028/NIST.FIPS.180-4)  \n",
    "> Secure Hash Standard  \n",
    "> Information Technology Laboratory  \n",
    "> National Institute of Standards and Technology  \n",
    "> U.S. Department of Commerce  "
   ]
  },
  {
   "cell_type": "code",
   "execution_count": 1,
   "metadata": {},
   "outputs": [],
   "source": [
    "# Standard Hash Functions.\n",
    "import hashlib"
   ]
  },
  {
   "cell_type": "markdown",
   "metadata": {},
   "source": [
    "## Initial Hash Value"
   ]
  },
  {
   "cell_type": "code",
   "execution_count": 2,
   "metadata": {},
   "outputs": [],
   "source": [
    "hash = [[\n",
    "    0x6a09e667,\n",
    "    0xbb67ae85,\n",
    "    0x3c6ef372,\n",
    "    0xa54ff53a,\n",
    "    0x510e527f,\n",
    "    0x9b05688c,\n",
    "    0x1f83d9ab,\n",
    "    0x5be0cd19,\n",
    "]]\n"
   ]
  },
  {
   "cell_type": "code",
   "execution_count": 3,
   "metadata": {},
   "outputs": [],
   "source": [
    "def print_hex(L):\n",
    "    for i in range(len(L)):\n",
    "        print(f'H_{i}: {L[i]:08x}')"
   ]
  },
  {
   "cell_type": "code",
   "execution_count": 4,
   "metadata": {},
   "outputs": [
    {
     "name": "stdout",
     "output_type": "stream",
     "text": [
      "H_0: 6a09e667\n",
      "H_1: bb67ae85\n",
      "H_2: 3c6ef372\n",
      "H_3: a54ff53a\n",
      "H_4: 510e527f\n",
      "H_5: 9b05688c\n",
      "H_6: 1f83d9ab\n",
      "H_7: 5be0cd19\n"
     ]
    }
   ],
   "source": [
    "# First hash value.\n",
    "print_hex(hash[0])"
   ]
  },
  {
   "cell_type": "markdown",
   "metadata": {},
   "source": [
    "## Padding"
   ]
  },
  {
   "cell_type": "markdown",
   "metadata": {},
   "source": [
    "> *Section 5.1*\n",
    "> \n",
    "> The purpose of this padding is to ensure that the padded message is a multiple of 512 or 1024\n",
    "bits, depending on the algorithm. Padding can be inserted before hash computation begins on a\n",
    "message, or at any other time during the hash computation prior to processing the block(s) that\n",
    "will contain the padding.\n",
    ">  \n",
    "> Suppose that the length of the message, M, is $l$ bits. Append the bit $1$ to the end of the\n",
    "message, followed by k zero bits, where k is the smallest, non-negative solution to the equation\n",
    "$l + 1 + k \\equiv_{512} 448$. Then append the 64-bit block that is equal to the number $l$ expressed\n",
    "using a binary representation."
   ]
  },
  {
   "cell_type": "code",
   "execution_count": 5,
   "metadata": {},
   "outputs": [],
   "source": [
    "# Example message.\n",
    "M = 'abc'"
   ]
  },
  {
   "cell_type": "code",
   "execution_count": 6,
   "metadata": {},
   "outputs": [
    {
     "data": {
      "text/plain": [
       "'01100001 01100010 01100011'"
      ]
     },
     "execution_count": 6,
     "metadata": {},
     "output_type": "execute_result"
    }
   ],
   "source": [
    "# Show in binary with spaces between bytes.\n",
    "' '.join([f'{ord(c):08b}' for c in M])"
   ]
  },
  {
   "cell_type": "code",
   "execution_count": 7,
   "metadata": {},
   "outputs": [
    {
     "data": {
      "text/plain": [
       "'011000010110001001100011'"
      ]
     },
     "execution_count": 7,
     "metadata": {},
     "output_type": "execute_result"
    }
   ],
   "source": [
    "# Message in binary - no spaces.\n",
    "M_bin = ''.join([f'{ord(c):08b}' for c in M])\n",
    "\n",
    "# Show.\n",
    "M_bin"
   ]
  },
  {
   "cell_type": "code",
   "execution_count": 8,
   "metadata": {},
   "outputs": [],
   "source": [
    "# Length of message.\n",
    "len_M = len(M_bin)\n",
    "\n",
    "# Show.\n",
    "len_M = len_M"
   ]
  },
  {
   "cell_type": "code",
   "execution_count": 9,
   "metadata": {},
   "outputs": [],
   "source": [
    "# Calculate number of zero bits to append.\n",
    "if len_M <= 512 - 64 - 1:\n",
    "    k = 512 - 64 - 1 - len_M\n",
    "# Need a new block full of padding to fit 64 bit int.\n",
    "else:\n",
    "    k = 512 + 512 - 64 - 1 - len_M"
   ]
  },
  {
   "cell_type": "code",
   "execution_count": 10,
   "metadata": {},
   "outputs": [
    {
     "data": {
      "text/plain": [
       "423"
      ]
     },
     "execution_count": 10,
     "metadata": {},
     "output_type": "execute_result"
    }
   ],
   "source": [
    "k"
   ]
  },
  {
   "cell_type": "markdown",
   "metadata": {},
   "source": [
    "## Empty Message"
   ]
  },
  {
   "cell_type": "code",
   "execution_count": 11,
   "metadata": {},
   "outputs": [
    {
     "data": {
      "text/plain": [
       "'e3b0c44298fc1c149afbf4c8996fb92427ae41e4649b934ca495991b7852b855'"
      ]
     },
     "execution_count": 11,
     "metadata": {},
     "output_type": "execute_result"
    }
   ],
   "source": [
    "hashlib.sha256(b'').hexdigest()"
   ]
  },
  {
   "cell_type": "code",
   "execution_count": 12,
   "metadata": {},
   "outputs": [
    {
     "data": {
      "text/plain": [
       "'10000000000000000000000000000000000000000000000000000000000000000000000000000000000000000000000000000000000000000000000000000000000000000000000000000000000000000000000000000000000000000000000000000000000000000000000000000000000000000000000000000000000000000000000000000000000000000000000000000000000000000000000000000000000000000000000000000000000000000000000000000000000000000000000000000000000000000000000000000000000000000000000000000000000000000000000000000000000000000000000000000000000000000000000000000000'"
      ]
     },
     "execution_count": 12,
     "metadata": {},
     "output_type": "execute_result"
    }
   ],
   "source": [
    "# Padding for empty message.\n",
    "P_str = '1' + ('0' * (511 - 64)) + ('0' * 64)\n",
    "\n",
    "# Show.\n",
    "P_str"
   ]
  },
  {
   "cell_type": "code",
   "execution_count": 13,
   "metadata": {},
   "outputs": [
    {
     "data": {
      "text/plain": [
       "6703903964971298549787012499102923063739682910296196688861780721860882015036773488400937149083451713845015929093243025426876941405973284973216824503042048"
      ]
     },
     "execution_count": 13,
     "metadata": {},
     "output_type": "execute_result"
    }
   ],
   "source": [
    "# To binary integer.\n",
    "P = int(P_str, 2)\n",
    "\n",
    "# Show in decimal.\n",
    "P"
   ]
  },
  {
   "cell_type": "code",
   "execution_count": 14,
   "metadata": {},
   "outputs": [
    {
     "data": {
      "text/plain": [
       "'0b10000000000000000000000000000000000000000000000000000000000000000000000000000000000000000000000000000000000000000000000000000000000000000000000000000000000000000000000000000000000000000000000000000000000000000000000000000000000000000000000000000000000000000000000000000000000000000000000000000000000000000000000000000000000000000000000000000000000000000000000000000000000000000000000000000000000000000000000000000000000000000000000000000000000000000000000000000000000000000000000000000000000000000000000000000000'"
      ]
     },
     "execution_count": 14,
     "metadata": {},
     "output_type": "execute_result"
    }
   ],
   "source": [
    "# Show in binary.\n",
    "bin(P)"
   ]
  },
  {
   "cell_type": "markdown",
   "metadata": {},
   "source": [
    "## End"
   ]
  }
 ],
 "metadata": {
  "kernelspec": {
   "display_name": "Python 3",
   "language": "python",
   "name": "python3"
  },
  "language_info": {
   "codemirror_mode": {
    "name": "ipython",
    "version": 3
   },
   "file_extension": ".py",
   "mimetype": "text/x-python",
   "name": "python",
   "nbconvert_exporter": "python",
   "pygments_lexer": "ipython3",
   "version": "3.12.1"
  }
 },
 "nbformat": 4,
 "nbformat_minor": 2
}
