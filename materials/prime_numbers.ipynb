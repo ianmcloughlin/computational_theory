{
 "cells": [
  {
   "cell_type": "markdown",
   "metadata": {},
   "source": [
    "# Prime Numbers"
   ]
  },
  {
   "cell_type": "code",
   "execution_count": 1,
   "metadata": {},
   "outputs": [],
   "source": [
    "# Numerical arrays.\n",
    "import numpy as np\n",
    "\n",
    "# Plots.\n",
    "import matplotlib.pyplot as plt"
   ]
  },
  {
   "cell_type": "markdown",
   "metadata": {},
   "source": [
    "## Why We Like Primes"
   ]
  },
  {
   "cell_type": "markdown",
   "metadata": {},
   "source": [
    "> Every integer greater than 1 can be represented uniquely as a product of prime numbers.  \n",
    ">   \n",
    "> e.g $1200 = 2^4 3^1 5^2$  \n",
    ">  \n",
    "> https://en.wikipedia.org/wiki/Fundamental_theorem_of_arithmetic  "
   ]
  },
  {
   "cell_type": "code",
   "execution_count": 2,
   "metadata": {},
   "outputs": [
    {
     "data": {
      "text/plain": [
       "1200"
      ]
     },
     "execution_count": 2,
     "metadata": {},
     "output_type": "execute_result"
    }
   ],
   "source": [
    "2**4 * 3**1 * 5**2"
   ]
  },
  {
   "cell_type": "markdown",
   "metadata": {},
   "source": [
    "## Testing for Primes"
   ]
  },
  {
   "cell_type": "markdown",
   "metadata": {},
   "source": [
    "> The algorithm was the first one which is able to determine in polynomial time, whether a given number is prime or composite without relying on mathematical conjectures such as the generalized Riemann hypothesis.\n",
    ">  \n",
    "> https://en.wikipedia.org/wiki/AKS_primality_test"
   ]
  },
  {
   "cell_type": "code",
   "execution_count": 3,
   "metadata": {},
   "outputs": [],
   "source": [
    "# Brute force test for primality.\n",
    "def isprime(n):\n",
    "    \"\"\"Test whether n is prime.\"\"\"\n",
    "    # Loop through 2...n-1.\n",
    "    for i in range(2, n):\n",
    "        # Calculate remainder of n divided by i.\n",
    "        if n % i == 0:\n",
    "            # If this is zero, then n is not prime.\n",
    "            return False\n",
    "    # If we get here, then n is prime.\n",
    "    return True"
   ]
  },
  {
   "cell_type": "code",
   "execution_count": 4,
   "metadata": {},
   "outputs": [
    {
     "data": {
      "text/plain": [
       "False"
      ]
     },
     "execution_count": 4,
     "metadata": {},
     "output_type": "execute_result"
    }
   ],
   "source": [
    "# Non-prime.\n",
    "isprime(10)"
   ]
  },
  {
   "cell_type": "code",
   "execution_count": 5,
   "metadata": {},
   "outputs": [
    {
     "data": {
      "text/plain": [
       "False"
      ]
     },
     "execution_count": 5,
     "metadata": {},
     "output_type": "execute_result"
    }
   ],
   "source": [
    "# Non-prime.\n",
    "isprime(17*19)"
   ]
  },
  {
   "cell_type": "code",
   "execution_count": 6,
   "metadata": {},
   "outputs": [
    {
     "data": {
      "text/plain": [
       "True"
      ]
     },
     "execution_count": 6,
     "metadata": {},
     "output_type": "execute_result"
    }
   ],
   "source": [
    "# A prime\n",
    "isprime(97)"
   ]
  },
  {
   "cell_type": "markdown",
   "metadata": {},
   "source": [
    "## A Slight Improvement"
   ]
  },
  {
   "cell_type": "markdown",
   "metadata": {},
   "source": [
    "For a product of two numbers, a small factor is balanced by a large factor.  \n",
    "The balance point is the square root.  \n",
    "We can use our numpy and matplotlib skills to visualize this.  "
   ]
  },
  {
   "cell_type": "code",
   "execution_count": 7,
   "metadata": {},
   "outputs": [],
   "source": [
    "# Consider this product of two primes - note that it is not prime.\n",
    "n = 17*19"
   ]
  },
  {
   "cell_type": "code",
   "execution_count": 8,
   "metadata": {},
   "outputs": [
    {
     "data": {
      "text/plain": [
       "np.float64(17.97220075561143)"
      ]
     },
     "execution_count": 8,
     "metadata": {},
     "output_type": "execute_result"
    }
   ],
   "source": [
    "# The square root of n.\n",
    "np.sqrt(n)"
   ]
  },
  {
   "cell_type": "markdown",
   "metadata": {},
   "source": [
    "Let's plot x versus n/x around the square root."
   ]
  },
  {
   "cell_type": "code",
   "execution_count": 9,
   "metadata": {},
   "outputs": [],
   "source": [
    "# Let one of the factors be x.\n",
    "x = np.linspace(10.0, 25.0, 100)"
   ]
  },
  {
   "cell_type": "code",
   "execution_count": 10,
   "metadata": {},
   "outputs": [
    {
     "data": {
      "image/png": "[encoded data removed]",
      "text/plain": [
       "<Figure size 640x480 with 1 Axes>"
      ]
     },
     "metadata": {},
     "output_type": "display_data"
    }
   ],
   "source": [
    "# Create a plot.\n",
    "fig, ax = plt.subplots()\n",
    "\n",
    "# Plot the division.\n",
    "ax.plot(x, x, label='x')\n",
    "ax.plot(x, n/x, label='n/x')\n",
    "\n",
    "# Add a grid.\n",
    "ax.grid(True)\n",
    "\n",
    "# Add title.\n",
    "ax.set_title(r'$n = 17 \\times 19 = 323; \\sqrt{323} = 17.972$')\n",
    "\n",
    "# Add a legend.\n",
    "ax.legend();"
   ]
  },
  {
   "cell_type": "code",
   "execution_count": 11,
   "metadata": {},
   "outputs": [
    {
     "data": {
      "text/plain": [
       "17"
      ]
     },
     "execution_count": 11,
     "metadata": {},
     "output_type": "execute_result"
    }
   ],
   "source": [
    "# Floor of the square root.\n",
    "int(np.floor(np.sqrt(n)))"
   ]
  },
  {
   "cell_type": "markdown",
   "metadata": {},
   "source": [
    "## More Efficient Algorithm"
   ]
  },
  {
   "cell_type": "code",
   "execution_count": 12,
   "metadata": {},
   "outputs": [],
   "source": [
    "# Square root test for primality.\n",
    "def isprime_sqrt(n):\n",
    "    \"\"\"Test whether n is prime.\"\"\"\n",
    "    # Loop through 2...floor(sqrt(n)).\n",
    "    for i in range(2, np.floor(np.sqrt(n)).astype(int) + 1):\n",
    "        # Calculate remainder of n divided by i.\n",
    "        if n % i == 0:\n",
    "            # If this is zero, then n is not prime.\n",
    "            return False\n",
    "    # If we get here, then n is prime.\n",
    "    return True"
   ]
  },
  {
   "cell_type": "code",
   "execution_count": 13,
   "metadata": {},
   "outputs": [
    {
     "data": {
      "text/plain": [
       "False"
      ]
     },
     "execution_count": 13,
     "metadata": {},
     "output_type": "execute_result"
    }
   ],
   "source": [
    "# Non-prime.\n",
    "isprime_sqrt(10)"
   ]
  },
  {
   "cell_type": "code",
   "execution_count": 14,
   "metadata": {},
   "outputs": [
    {
     "data": {
      "text/plain": [
       "False"
      ]
     },
     "execution_count": 14,
     "metadata": {},
     "output_type": "execute_result"
    }
   ],
   "source": [
    "# Non-prime.\n",
    "isprime_sqrt(17*19)"
   ]
  },
  {
   "cell_type": "code",
   "execution_count": 15,
   "metadata": {},
   "outputs": [
    {
     "data": {
      "text/plain": [
       "True"
      ]
     },
     "execution_count": 15,
     "metadata": {},
     "output_type": "execute_result"
    }
   ],
   "source": [
    "# A prime.\n",
    "isprime_sqrt(97)"
   ]
  },
  {
   "cell_type": "markdown",
   "metadata": {},
   "source": [
    "## Testing Efficiency"
   ]
  },
  {
   "cell_type": "code",
   "execution_count": 16,
   "metadata": {},
   "outputs": [
    {
     "name": "stdout",
     "output_type": "stream",
     "text": [
      "782 ms ± 59.4 ms per loop (mean ± std. dev. of 7 runs, 1 loop each)\n"
     ]
    }
   ],
   "source": [
    "%%timeit\n",
    "\n",
    "isprime(15485863)"
   ]
  },
  {
   "cell_type": "code",
   "execution_count": 17,
   "metadata": {},
   "outputs": [
    {
     "name": "stdout",
     "output_type": "stream",
     "text": [
      "188 μs ± 7.78 μs per loop (mean ± std. dev. of 7 runs, 10,000 loops each)\n"
     ]
    }
   ],
   "source": [
    "%%timeit \n",
    "\n",
    "isprime_sqrt(15485863)"
   ]
  },
  {
   "cell_type": "markdown",
   "metadata": {},
   "source": [
    "## Factorization"
   ]
  },
  {
   "cell_type": "markdown",
   "metadata": {},
   "source": [
    "> A one-way function is a function that is easy to compute on every input, but hard to invert given the image of a random input.  \n",
    ">   \n",
    "> https://en.wikipedia.org/wiki/One-way_function  "
   ]
  },
  {
   "cell_type": "code",
   "execution_count": 18,
   "metadata": {},
   "outputs": [],
   "source": [
    "# Multiplying numbers is quick.\n",
    "n = 17 * 19"
   ]
  },
  {
   "cell_type": "code",
   "execution_count": 19,
   "metadata": {},
   "outputs": [
    {
     "name": "stdout",
     "output_type": "stream",
     "text": [
      "Number of digits in 323: 3\n"
     ]
    }
   ],
   "source": [
    "# The complexity relies on the number of digits in the number.\n",
    "print(f\"Number of digits in {n}: {len(str(n))}\")"
   ]
  },
  {
   "cell_type": "code",
   "execution_count": 20,
   "metadata": {},
   "outputs": [
    {
     "name": "stdout",
     "output_type": "stream",
     "text": [
      "323 = 17 * 19\n"
     ]
    }
   ],
   "source": [
    "# Try all numbers up to the square root.\n",
    "for i in range(2, int(np.sqrt(n)) + 1):\n",
    "    # If it divides, then it is a factor.\n",
    "    if n % i == 0:\n",
    "        print(f\"{n} = {i} * {n // i}\")"
   ]
  },
  {
   "cell_type": "code",
   "execution_count": 21,
   "metadata": {},
   "outputs": [
    {
     "name": "stdout",
     "output_type": "stream",
     "text": [
      "Number of numbers to check: 16\n"
     ]
    }
   ],
   "source": [
    "# Note that relies on the number of numbers between 2 and the square root.\n",
    "print(f\"Number of numbers to check: {int(np.sqrt(n)) - 1}\")"
   ]
  },
  {
   "cell_type": "markdown",
   "metadata": {},
   "source": [
    "## Idea\n",
    "\n",
    "Find two large primes.  \n",
    "Multiply them together to devise an encryption key.  \n",
    "Ensure decryption can only be done if you know the factors.  "
   ]
  },
  {
   "cell_type": "code",
   "execution_count": 22,
   "metadata": {},
   "outputs": [],
   "source": [
    "# The first ten primes by brute force.\n",
    "def find_primes():\n",
    "    \"\"\"Find the first ten primes.\"\"\"\n",
    "    # Start with an empty list.\n",
    "    primes = []\n",
    "    # Start with 2.\n",
    "    n = 2\n",
    "    # Keep going until we have ten primes.\n",
    "    while len(primes) < 10:\n",
    "        # If n is prime.\n",
    "        if isprime(n):\n",
    "            # Add it to the list.\n",
    "            primes.append(n)\n",
    "        # Move to the next number.\n",
    "        n += 1\n",
    "    # Return the list.\n",
    "    return primes"
   ]
  },
  {
   "cell_type": "code",
   "execution_count": 23,
   "metadata": {},
   "outputs": [
    {
     "data": {
      "text/plain": [
       "[2, 3, 5, 7, 11, 13, 17, 19, 23, 29]"
      ]
     },
     "execution_count": 23,
     "metadata": {},
     "output_type": "execute_result"
    }
   ],
   "source": [
    "# Run the function.\n",
    "find_primes()"
   ]
  },
  {
   "cell_type": "markdown",
   "metadata": {},
   "source": [
    "Suggested improvements:\n",
    "\n",
    "- Use our `primes_sqrt()` function.\n",
    "\n",
    "- Ignore even numbers (`n += 2`) after `2`.\n",
    "\n",
    "- Only test the division for primes already found."
   ]
  },
  {
   "cell_type": "markdown",
   "metadata": {},
   "source": [
    "## End"
   ]
  }
 ],
 "metadata": {
  "kernelspec": {
   "display_name": "Python 3",
   "language": "python",
   "name": "python3"
  },
  "language_info": {
   "codemirror_mode": {
    "name": "ipython",
    "version": 3
   },
   "file_extension": ".py",
   "mimetype": "text/x-python",
   "name": "python",
   "nbconvert_exporter": "python",
   "pygments_lexer": "ipython3",
   "version": "3.12.1"
  }
 },
 "nbformat": 4,
 "nbformat_minor": 2
}
