{
 "cells": [
  {
   "cell_type": "markdown",
   "metadata": {},
   "source": [
    "# Cube Roots"
   ]
  },
  {
   "cell_type": "code",
   "execution_count": 5,
   "metadata": {},
   "outputs": [],
   "source": [
    "# No imports yet."
   ]
  },
  {
   "cell_type": "markdown",
   "metadata": {},
   "source": [
    "## Motivation"
   ]
  },
  {
   "cell_type": "markdown",
   "metadata": {},
   "source": [
    "> [FIPS PUB 180-4](https://doi.org/10.6028/NIST.FIPS.180-4)  \n",
    "> Secure Hash Standard  \n",
    "> Information Technology Laboratory  \n",
    "> National Institute of Standards and Technology  \n",
    "> U.S. Department of Commerce  "
   ]
  },
  {
   "cell_type": "markdown",
   "metadata": {},
   "source": [
    "```c\n",
    "// Section 4.2.2\n",
    "const WORD K[] = {\n",
    "  0x428a2f98, 0x71374491, 0xb5c0fbcf, 0xe9b5dba5,\n",
    "  0x3956c25b, 0x59f111f1, 0x923f82a4, 0xab1c5ed5,\n",
    "  0xd807aa98, 0x12835b01, 0x243185be, 0x550c7dc3,\n",
    "  0x72be5d74, 0x80deb1fe, 0x9bdc06a7, 0xc19bf174,\n",
    "  0xe49b69c1, 0xefbe4786, 0x0fc19dc6, 0x240ca1cc,\n",
    "  0x2de92c6f, 0x4a7484aa, 0x5cb0a9dc, 0x76f988da,\n",
    "  0x983e5152, 0xa831c66d, 0xb00327c8, 0xbf597fc7,\n",
    "  0xc6e00bf3, 0xd5a79147, 0x06ca6351, 0x14292967,\n",
    "  0x27b70a85, 0x2e1b2138, 0x4d2c6dfc, 0x53380d13,\n",
    "  0x650a7354, 0x766a0abb, 0x81c2c92e, 0x92722c85,\n",
    "  0xa2bfe8a1, 0xa81a664b, 0xc24b8b70, 0xc76c51a3,\n",
    "  0xd192e819, 0xd6990624, 0xf40e3585, 0x106aa070,\n",
    "  0x19a4c116, 0x1e376c08, 0x2748774c, 0x34b0bcb5,\n",
    "  0x391c0cb3, 0x4ed8aa4a, 0x5b9cca4f, 0x682e6ff3,\n",
    "  0x748f82ee, 0x78a5636f, 0x84c87814, 0x8cc70208,\n",
    "  0x90befffa, 0xa4506ceb, 0xbef9a3f7, 0xc67178f2\n",
    "};\n",
    "```"
   ]
  },
  {
   "cell_type": "markdown",
   "metadata": {},
   "source": [
    "## In C"
   ]
  },
  {
   "cell_type": "markdown",
   "metadata": {},
   "source": [
    "```c\n",
    "#include <stdio.h>\n",
    "#include <stdint.h>\n",
    "#include <math.h>\n",
    "\n",
    "const uint32_t primes[] = {\n",
    "    2,   3,   5,   7,  11,  13,  17,  19,  23,  29,  31,  37,  41,  43,  47,  53,\n",
    "   59,  61,  67,  71,  73,  79,  83,  89,  97, 101, 103, 107, 109, 113, 127, 131,\n",
    "  137, 139, 149, 151, 157, 163, 167, 173, 179, 181, 191, 193, 197, 199, 211, 223,\n",
    "  227, 229, 233, 239, 241, 251, 257, 263, 269, 271, 277, 281, 283, 293, 307, 311 \n",
    "};\n",
    "\n",
    "uint32_t cube_root_frac32(uint32_t prime) {\n",
    "  long double cuberoot = cbrtl((long double) prime);\n",
    "  cuberoot = cuberoot - floorl(cuberoot);\n",
    "  cuberoot = cuberoot * 0x100000000;\n",
    "  cuberoot = floorl(cuberoot);\n",
    "  \n",
    "  return (uint32_t) cuberoot;\n",
    "}\n",
    "\n",
    "int main(int argc, char *argv[]) {\n",
    "  for (int i = 0; i < 64; i++)\n",
    "    printf(\"%08x\\n\", cube_root_frac32(primes[i]));\n",
    "  \n",
    "  return 0;\n",
    "}\n",
    "```"
   ]
  },
  {
   "cell_type": "markdown",
   "metadata": {},
   "source": [
    "### Compile\n",
    "\n",
    "```sh\n",
    "$ gcc -o roots roots.c -lm\n",
    "```"
   ]
  },
  {
   "cell_type": "markdown",
   "metadata": {},
   "source": [
    "## In Python"
   ]
  },
  {
   "cell_type": "code",
   "execution_count": 1,
   "metadata": {},
   "outputs": [],
   "source": [
    "# First 64 Primes.\n",
    "primes = [\n",
    "    2, 3, 5, 7, 11, 13, 17, 19, 23, 29, 31, 37, 41, 43, 47, 53, 59, 61,\n",
    "    67, 71, 73, 79, 83, 89, 97, 101, 103, 107, 109, 113, 127, 131, 137,\n",
    "    139, 149, 151, 157, 163, 167, 173, 179, 181, 191, 193, 197, 199, 211,\n",
    "    223, 227, 229, 233, 239, 241, 251, 257, 263, 269, 271, 277, 281, 283,\n",
    "    293, 307, 311\n",
    "]"
   ]
  },
  {
   "cell_type": "code",
   "execution_count": 2,
   "metadata": {},
   "outputs": [],
   "source": [
    "# First 32 bits of fractional part of cube roots.\n",
    "frac32 = []\n",
    "for prime in primes:\n",
    "    # Compute cube root.\n",
    "    root = prime ** (1 / 3)\n",
    "    # Modulo 1.\n",
    "    frac = root - int(root)\n",
    "    # Move 32 bits in front of decimal point.\n",
    "    frac = frac * (2 ** 32)\n",
    "    # Convert to integer.\n",
    "    bits = int(frac)\n",
    "    # Append.\n",
    "    frac32.append(bits)"
   ]
  },
  {
   "cell_type": "code",
   "execution_count": null,
   "metadata": {},
   "outputs": [],
   "source": [
    "# Print.\n",
    "for prime, bits in zip(primes, frac32):\n",
    "    print(f\"{prime:6} -> {bits:032b}\")"
   ]
  },
  {
   "cell_type": "code",
   "execution_count": null,
   "metadata": {},
   "outputs": [],
   "source": [
    "# In hex.\n",
    "for frac in frac32:\n",
    "    print(f\"{frac:08x}\")"
   ]
  },
  {
   "cell_type": "markdown",
   "metadata": {},
   "source": [
    "## End"
   ]
  }
 ],
 "metadata": {
  "kernelspec": {
   "display_name": "base",
   "language": "python",
   "name": "python3"
  },
  "language_info": {
   "codemirror_mode": {
    "name": "ipython",
    "version": 3
   },
   "file_extension": ".py",
   "mimetype": "text/x-python",
   "name": "python",
   "nbconvert_exporter": "python",
   "pygments_lexer": "ipython3",
   "version": "3.12.2"
  }
 },
 "nbformat": 4,
 "nbformat_minor": 2
}
