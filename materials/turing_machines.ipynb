{
 "cells": [
  {
   "cell_type": "markdown",
   "metadata": {},
   "source": [
    "# Turing Machines"
   ]
  },
  {
   "cell_type": "markdown",
   "metadata": {},
   "source": [
    "[On Computable Numbers, with an Application to the Entscheidungsproblem](https://people.math.ethz.ch/~halorenz/4students/Literatur/TuringFullText.pdf)  \n",
    "Proceedings of the London Mathematical Society Series 2, 42, 230-265  \n",
    "Turing, A. M. (1937)  \n",
    "\n",
    "[Introduction to the Theory of Computation, Third Edition](https://www.cengage.uk/c/new-edition/9780357670583/)  \n",
    "Michael Sipser  \n",
    "Cengage Learning"
   ]
  },
  {
   "cell_type": "markdown",
   "metadata": {},
   "source": [
    "## Long Multiplication"
   ]
  },
  {
   "cell_type": "markdown",
   "metadata": {},
   "source": [
    "Multiply 123 by 45.  \n",
    "You need your times tables for 0 to 9.  \n",
    "They are a partial list of instructions.  \n",
    "\n",
    "We would write:\n",
    "\n",
    "```\n",
    " 123\n",
    "x 45\n",
    "----\n",
    " 615\n",
    "4920\n",
    "----\n",
    "5535\n",
    "```\n",
    "\n",
    "The problem is written as:\n",
    "\n",
    "```\n",
    "123x45=\n",
    "```\n",
    "\n",
    "You can, with some effort and notation avoid using a 2D grid:\n",
    "\n",
    "```\n",
    "123x45=615,4920=5535\n",
    "```"
   ]
  },
  {
   "cell_type": "markdown",
   "metadata": {},
   "source": [
    "## Features\n",
    "\n",
    "- Series of cells called the *tape*, each of which can hold a symbol. Infinite it both directions.\n",
    "- Special symbol called the *blank* symbol, which means a cell is effectively empty.  \n",
    "- Read/Write head that can read the symbol in the current cell and overwrite it.\n",
    "- Read/Write head can move one cell to the left or right at a time.\n",
    "- Set of *states* that the machine can be in.\n",
    "- Programming means choosing states, symbols, and rules to perform a given function."
   ]
  },
  {
   "cell_type": "markdown",
   "metadata": {},
   "source": [
    "## Definition"
   ]
  },
  {
   "cell_type": "markdown",
   "metadata": {},
   "source": [
    "https://en.wikipedia.org/wiki/Turing_machine#Formal_definition\n",
    "\n",
    "A machine is a 7-tuple (Q, T, b, A, d, s, F) where:\n",
    "- Q is a finite, non-empty set. We call the elements *states*.\n",
    "- T is a finite, non-empty set called the *tape alphabet*. Any cell can hold one of these.\n",
    "- b is the *blank symbol*.\n",
    "- A is the *input alphabet*, which is a subset of T excluding b.\n",
    "- d is the *transition function* d:(Q\\F)xT -> QxTx{L,R}. These are the rules of the machine.\n",
    "- s is the *initial state*. It must be an element of $Q$.\n",
    "- F is a subset of Q. The elements are called *final states*."
   ]
  },
  {
   "cell_type": "markdown",
   "metadata": {},
   "source": [
    "## Example\n",
    "\n",
    "Note simulating a Turing machine using Python is weird.  \n",
    "You have to be careful not rely on any particular feature of Python itself.  "
   ]
  },
  {
   "cell_type": "code",
   "execution_count": 1,
   "metadata": {},
   "outputs": [],
   "source": [
    "# States.\n",
    "Q = {'U', 'V', 'A', 'F'}\n",
    "\n",
    "# Alphabet - underscore is b.\n",
    "T = {'0', '1', '_'} \n",
    "\n",
    "# Blank symbol.\n",
    "b = '_'\n",
    "\n",
    "# Input alphabet.\n",
    "A = {'0', '1'}\n",
    "\n",
    "# Transition function.\n",
    "def d(state, symbol):\n",
    "    table = {\n",
    "        ('U', '0'): ('U', '0', 'R'),\n",
    "        ('U', '1'): ('V', '1', 'R'),\n",
    "        ('U', '_'): ('A', '_', 'L'),\n",
    "        ('V', '0'): ('V', '0', 'R'),\n",
    "        ('V', '1'): ('U', '1', 'R'),\n",
    "        ('V', '_'): ('F', '_', 'L'),\n",
    "    }\n",
    "    return table[(state, symbol)]\n",
    "\n",
    "# Initial state.\n",
    "s = 'U'\n",
    "\n",
    "# Final states.\n",
    "F = {'A', 'F'}\n"
   ]
  },
  {
   "cell_type": "markdown",
   "metadata": {},
   "source": [
    "## Simulator\n",
    "\n",
    "- Represent the tape with a list.\n",
    "- Keep track of our position in the string.\n",
    "- Turing machine tapes have no cell identifiers.\n",
    "- We only know which cell we are over and how to move one cell left or right."
   ]
  },
  {
   "cell_type": "code",
   "execution_count": 2,
   "metadata": {},
   "outputs": [],
   "source": [
    "# Example input.\n",
    "initial_input = '11101010'\n",
    "\n",
    "# Example state table.\n",
    "state_table = {\n",
    "    ('U', '0'): ('U', '0', 'R'),\n",
    "    ('U', '1'): ('V', '1', 'R'),\n",
    "    ('U', '_'): ('A', '_', 'L'),\n",
    "    ('V', '0'): ('V', '0', 'R'),\n",
    "    ('V', '1'): ('U', '1', 'R'),\n",
    "    ('V', '_'): ('F', '_', 'L'),\n",
    "}\n"
   ]
  },
  {
   "cell_type": "code",
   "execution_count": 3,
   "metadata": {},
   "outputs": [
    {
     "data": {
      "text/plain": [
       "'U'"
      ]
     },
     "execution_count": 3,
     "metadata": {},
     "output_type": "execute_result"
    }
   ],
   "source": [
    "# Find start state from table, convention.\n",
    "list(state_table.keys())[0][0]"
   ]
  },
  {
   "cell_type": "code",
   "execution_count": 4,
   "metadata": {},
   "outputs": [
    {
     "data": {
      "text/plain": [
       "{'A', 'F'}"
      ]
     },
     "execution_count": 4,
     "metadata": {},
     "output_type": "execute_result"
    }
   ],
   "source": [
    "# Find final states from table, convention.\n",
    "set([i[0] for i in state_table.values()]) - set(i[0] for i in state_table.keys()) "
   ]
  },
  {
   "cell_type": "code",
   "execution_count": 8,
   "metadata": {},
   "outputs": [],
   "source": [
    "def simulate(table, initial_input, verbose=True):\n",
    "    \"\"\"Simulate a Turing machine.\"\"\"\n",
    "    if verbose is True:\n",
    "        print(f'Length of input: {len(initial_input)}')\n",
    "    # Keep track of number of operations.\n",
    "    no_ops = 0\n",
    "\n",
    "    # Check for empty input.\n",
    "    if initial_input == '':\n",
    "        initial_input = '_'\n",
    "    # Make input a list.\n",
    "    tape = list(initial_input)\n",
    "    # Initial position on the tape, convention.\n",
    "    pos = 0\n",
    "\n",
    "    # Initial state - note dictionaries preserve insertion.\n",
    "    state = list(state_table.keys())[0][0]\n",
    "    # All states in first column.\n",
    "    states_1 = set(i[0] for i in state_table.keys())\n",
    "    # All states in third column.\n",
    "    states_3 = set([i[0] for i in state_table.values()])\n",
    "    # Final states.\n",
    "    F = states_3 - states_1\n",
    "\n",
    "    if verbose is True:\n",
    "        # Print starting config.\n",
    "        print(state + ''.join(tape))\n",
    "\n",
    "    # While not in a final state.\n",
    "    while state not in F:\n",
    "        # Get current symbol.\n",
    "        symbol = tape[pos]\n",
    "        # Get next state, symbol, and direction.\n",
    "        state, tape[pos], direction = table[(state, symbol)]\n",
    "        # Increment number of operations.\n",
    "        no_ops += 1\n",
    "        # Move cell.\n",
    "        if direction == 'L':\n",
    "            pos -= 1\n",
    "        else:\n",
    "            pos += 1\n",
    "        # Fix problems with Python lists being finite\n",
    "        if pos < 0:\n",
    "            tape = [b] + tape\n",
    "            pos = 0\n",
    "        if pos == len(tape):\n",
    "            tape.append('_')\n",
    "\n",
    "        if verbose is True:\n",
    "            # Print current configuration.\n",
    "            print(''.join(tape[:pos]) + state + ''.join(tape[pos:]))\n",
    "\n",
    "    if verbose is True:\n",
    "        # Print number of operations.\n",
    "        print(f'Number of operations: {no_ops}')\n",
    "    \n",
    "    # Return final state.\n",
    "    return state"
   ]
  },
  {
   "cell_type": "code",
   "execution_count": 9,
   "metadata": {},
   "outputs": [
    {
     "name": "stdout",
     "output_type": "stream",
     "text": [
      "Length of input: 8\n",
      "U11101010\n",
      "1V1101010\n",
      "11U101010\n",
      "111V01010\n",
      "1110V1010\n",
      "11101U010\n",
      "111010U10\n",
      "1110101V0\n",
      "11101010V_\n",
      "1110101F0_\n",
      "Number of operations: 9\n"
     ]
    },
    {
     "data": {
      "text/plain": [
       "'F'"
      ]
     },
     "execution_count": 9,
     "metadata": {},
     "output_type": "execute_result"
    }
   ],
   "source": [
    "simulate(state_table, initial_input)"
   ]
  },
  {
   "cell_type": "code",
   "execution_count": 10,
   "metadata": {},
   "outputs": [
    {
     "name": "stdout",
     "output_type": "stream",
     "text": [
      "Length of input: 0\n",
      "U_\n",
      "A__\n",
      "Number of operations: 1\n"
     ]
    },
    {
     "data": {
      "text/plain": [
       "'A'"
      ]
     },
     "execution_count": 10,
     "metadata": {},
     "output_type": "execute_result"
    }
   ],
   "source": [
    "# Empty input.\n",
    "simulate(state_table, \"\")"
   ]
  },
  {
   "cell_type": "code",
   "execution_count": null,
   "metadata": {},
   "outputs": [
    {
     "name": "stdout",
     "output_type": "stream",
     "text": [
      "Length of input: 0\n",
      "U_\n",
      "A__\n",
      "Number of operations: 1\n",
      "Length of input: 1\n",
      "U0\n",
      "0U_\n",
      "A0_\n",
      "Number of operations: 2\n",
      "Length of input: 3\n",
      "U100\n",
      "1V00\n",
      "10V0\n",
      "100V_\n",
      "10F0_\n",
      "Number of operations: 4\n",
      "Length of input: 17\n",
      "U10101011101100101\n",
      "1V0101011101100101\n",
      "10V101011101100101\n",
      "101U01011101100101\n",
      "1010U1011101100101\n",
      "10101V011101100101\n",
      "101010V11101100101\n",
      "1010101U1101100101\n",
      "10101011V101100101\n",
      "101010111U01100101\n",
      "1010101110U1100101\n",
      "10101011101V100101\n",
      "101010111011U00101\n",
      "1010101110110U0101\n",
      "10101011101100U101\n",
      "101010111011001V01\n",
      "1010101110110010V1\n",
      "10101011101100101U_\n",
      "1010101110110010A1_\n",
      "Number of operations: 18\n"
     ]
    }
   ],
   "source": [
    "for eg in ['', '0', '100', '10101011101100101']:\n",
    "    simulate(state_table, eg)"
   ]
  },
  {
   "cell_type": "markdown",
   "metadata": {},
   "source": [
    "## Zeros and Ones\n",
    "\n",
    "$L = \\{\\epsilon, 01, 0011, 000111, \\ldots \\}$"
   ]
  },
  {
   "cell_type": "code",
   "execution_count": 12,
   "metadata": {},
   "outputs": [],
   "source": [
    "# Example state table.\n",
    "state_table = {\n",
    "    ('U', '0'): ('V', '_', 'R'),\n",
    "    ('U', '1'): ('F', '1', 'L'),\n",
    "    ('U', '_'): ('A', '_', 'L'),\n",
    "    ('V', '0'): ('V', '0', 'R'),\n",
    "    ('V', '1'): ('V', '1', 'R'),\n",
    "    ('V', '_'): ('W', '_', 'L'),\n",
    "    ('W', '0'): ('F', '0', 'L'),\n",
    "    ('W', '1'): ('X', '_', 'L'),\n",
    "    ('W', '_'): ('F', '_', 'L'),\n",
    "    ('X', '0'): ('X', '0', 'L'),\n",
    "    ('X', '1'): ('X', '1', 'L'),\n",
    "    ('X', '_'): ('U', '_', 'R'),\n",
    "}\n"
   ]
  },
  {
   "cell_type": "code",
   "execution_count": 13,
   "metadata": {},
   "outputs": [
    {
     "name": "stdout",
     "output_type": "stream",
     "text": [
      "Length of input: 4\n",
      "U0011\n",
      "_V011\n",
      "_0V11\n",
      "_01V1\n",
      "_011V_\n",
      "_01W1_\n",
      "_0X1__\n",
      "_X01__\n",
      "X_01__\n",
      "_U01__\n",
      "__V1__\n",
      "__1V__\n",
      "__W1__\n",
      "_X____\n",
      "__U___\n",
      "_A____\n",
      "Number of operations: 15\n"
     ]
    },
    {
     "data": {
      "text/plain": [
       "'A'"
      ]
     },
     "execution_count": 13,
     "metadata": {},
     "output_type": "execute_result"
    }
   ],
   "source": [
    "simulate(state_table, '0011')"
   ]
  },
  {
   "cell_type": "code",
   "execution_count": null,
   "metadata": {},
   "outputs": [],
   "source": []
  },
  {
   "cell_type": "markdown",
   "metadata": {},
   "source": [
    "## End"
   ]
  }
 ],
 "metadata": {
  "kernelspec": {
   "display_name": "Python 3",
   "language": "python",
   "name": "python3"
  },
  "language_info": {
   "codemirror_mode": {
    "name": "ipython",
    "version": 3
   },
   "file_extension": ".py",
   "mimetype": "text/x-python",
   "name": "python",
   "nbconvert_exporter": "python",
   "pygments_lexer": "ipython3",
   "version": "3.12.1"
  }
 },
 "nbformat": 4,
 "nbformat_minor": 2
}
