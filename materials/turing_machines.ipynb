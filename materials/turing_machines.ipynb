{
 "cells": [
  {
   "cell_type": "markdown",
   "metadata": {},
   "source": [
    "# Turing Machines"
   ]
  },
  {
   "cell_type": "markdown",
   "metadata": {},
   "source": [
    "[On Computable Numbers, with an Application to the Entscheidungsproblem](https://people.math.ethz.ch/~halorenz/4students/Literatur/TuringFullText.pdf)  \n",
    "Proceedings of the London Mathematical Society Series 2, 42, 230-265  \n",
    "Turing, A. M. (1937)  "
   ]
  },
  {
   "cell_type": "markdown",
   "metadata": {},
   "source": [
    "## Long Multiplication"
   ]
  },
  {
   "cell_type": "markdown",
   "metadata": {},
   "source": [
    "Multiply 123 by 45.  \n",
    "You need your times tables for 1 to 9.  \n",
    "They are a list of instructions.\n",
    "\n",
    "```\n",
    " 123\n",
    "x 45\n",
    "----\n",
    " 615\n",
    "4920\n",
    "----\n",
    "5535\n",
    "```\n",
    "\n",
    "```\n",
    "123x45=\n",
    "```\n",
    "\n",
    "```\n",
    "123x45=615,4920=5535\n",
    "```"
   ]
  },
  {
   "cell_type": "markdown",
   "metadata": {},
   "source": [
    "## Turing Machine Simulator"
   ]
  },
  {
   "cell_type": "code",
   "execution_count": null,
   "metadata": {},
   "outputs": [],
   "source": [
    "# Input alphabet.\n",
    "input_symbols = {'0', '1'}\n",
    "\n",
    "# The Turing machine tape - infinite in both directions.\n",
    "tape = '___________________________'\n",
    "\n",
    "# The position on the tape that the machine is over.\n",
    "pos = 0\n",
    "\n",
    "# Tape alphabet.\n",
    "tape_symbols = input_symbols.union({'_'})\n",
    "\n",
    "# Allowed states.\n",
    "states = {'A', 'B', 'C', 'D', 'ACCEPT', 'REJECT'}\n",
    "\n",
    "# The initial state of the machine.\n",
    "initial_state = 'A'\n",
    "\n",
    "# The final state of the machine.\n",
    "final_states = {'ACCEPT', 'REJECT'}"
   ]
  },
  {
   "cell_type": "code",
   "execution_count": null,
   "metadata": {},
   "outputs": [],
   "source": [
    "state_table = [\n",
    "    ['A', '0',           'B',      '0', 'R'],\n",
    "    ['A', '1',           'B',      '1', 'R'],\n",
    "    ['A', '_',           'ACCEPT', '_', 'R'],\n",
    "    ['B', '0',           'C',      '1', 'R'],\n",
    "    ['B', '1',           'D',      '0', 'R'],\n",
    "    ['B', '_',           'REJECT', '_', 'R'],\n",
    "    ['C', '0',           'C',      '0', 'R'],\n",
    "    ['C', '1',           'C',      '1', 'R'],\n",
    "    ['C', '_',           'A',      '_', 'L'],\n",
    "    ['D', '0',           'D',      '0', 'R'],\n",
    "    ['D', '1',           'D',      '1', 'R'],\n",
    "    ['D', '_',           'A',      '_', 'L']\n",
    "]"
   ]
  },
  {
   "cell_type": "markdown",
   "metadata": {},
   "source": [
    "## End"
   ]
  }
 ],
 "metadata": {
  "kernelspec": {
   "display_name": "Python 3",
   "language": "python",
   "name": "python3"
  },
  "language_info": {
   "codemirror_mode": {
    "name": "ipython",
    "version": 3
   },
   "file_extension": ".py",
   "mimetype": "text/x-python",
   "name": "python",
   "nbconvert_exporter": "python",
   "pygments_lexer": "ipython3",
   "version": "3.12.1"
  }
 },
 "nbformat": 4,
 "nbformat_minor": 2
}
