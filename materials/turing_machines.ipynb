{
 "cells": [
  {
   "cell_type": "markdown",
   "metadata": {},
   "source": [
    "# Turing Machines"
   ]
  },
  {
   "cell_type": "markdown",
   "metadata": {},
   "source": [
    "[On Computable Numbers, with an Application to the Entscheidungsproblem](https://people.math.ethz.ch/~halorenz/4students/Literatur/TuringFullText.pdf)  \n",
    "Proceedings of the London Mathematical Society Series 2, 42, 230-265  \n",
    "Turing, A. M. (1937)  "
   ]
  },
  {
   "cell_type": "code",
   "execution_count": null,
   "metadata": {
    "vscode": {
     "languageId": "plaintext"
    }
   },
   "outputs": [],
   "source": []
  },
  {
   "cell_type": "markdown",
   "metadata": {},
   "source": [
    "## End"
   ]
  }
 ],
 "metadata": {
  "language_info": {
   "name": "python"
  }
 },
 "nbformat": 4,
 "nbformat_minor": 2
}
