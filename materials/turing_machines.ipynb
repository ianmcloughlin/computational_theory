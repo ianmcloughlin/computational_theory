{
 "cells": [
  {
   "cell_type": "markdown",
   "metadata": {},
   "source": [
    "# Turing Machines"
   ]
  },
  {
   "cell_type": "markdown",
   "metadata": {},
   "source": [
    "[On Computable Numbers, with an Application to the Entscheidungsproblem](https://people.math.ethz.ch/~halorenz/4students/Literatur/TuringFullText.pdf)  \n",
    "Proceedings of the London Mathematical Society Series 2, 42, 230-265  \n",
    "Turing, A. M. (1937)  "
   ]
  },
  {
   "cell_type": "markdown",
   "metadata": {},
   "source": [
    "## Long Multiplication"
   ]
  },
  {
   "cell_type": "markdown",
   "metadata": {},
   "source": [
    "Multiply 123 by 45.  \n",
    "You need your times tables for 1 to 9.  \n",
    "They are a list of instructions.\n",
    "\n",
    "```\n",
    " 123\n",
    "x 45\n",
    "----\n",
    " 615\n",
    "4920\n",
    "----\n",
    "5535\n",
    "```\n",
    "\n",
    "```\n",
    "123x45=\n",
    "```\n",
    "\n",
    "```\n",
    "123x45=615,4920=5535\n",
    "```"
   ]
  },
  {
   "cell_type": "markdown",
   "metadata": {},
   "source": [
    "## Turing Machine Simulator"
   ]
  },
  {
   "cell_type": "code",
   "execution_count": null,
   "metadata": {},
   "outputs": [],
   "source": [
    "# Input alphabet.\n",
    "input_symbols = {'0', '1'}\n",
    "\n",
    "# The Turing machine tape - infinite in both directions.\n",
    "tape = '___________________________'\n",
    "\n",
    "# The position on the tape that the machine is over.\n",
    "pos = 0\n",
    "\n",
    "# Tape alphabet.\n",
    "tape_symbols = input_symbols.union({'_'})\n",
    "\n",
    "# Allowed states.\n",
    "states = {'A', 'B', 'C', 'D', 'ACCEPT', 'REJECT'}\n",
    "\n",
    "# The initial state of the machine.\n",
    "initial_state = 'A'\n",
    "\n",
    "# The final state of the machine.\n",
    "final_states = {'ACCEPT', 'REJECT'}"
   ]
  },
  {
   "cell_type": "code",
   "execution_count": null,
   "metadata": {},
   "outputs": [],
   "source": [
    "state_table = [\n",
    "    ['A', '0',           'B',      '0', 'R'],\n",
    "    ['A', '1',           'B',      '1', 'R'],\n",
    "    ['A', '_',           'ACCEPT', '_', 'R'],\n",
    "    ['B', '0',           'C',      '1', 'R'],\n",
    "    ['B', '1',           'D',      '0', 'R'],\n",
    "    ['B', '_',           'REJECT', '_', 'R'],\n",
    "    ['C', '0',           'C',      '0', 'R'],\n",
    "    ['C', '1',           'C',      '1', 'R'],\n",
    "    ['C', '_',           'A',      '_', 'L'],\n",
    "    ['D', '0',           'D',      '0', 'R'],\n",
    "    ['D', '1',           'D',      '1', 'R'],\n",
    "    ['D', '_',           'A',      '_', 'L']\n",
    "]"
   ]
  },
  {
   "cell_type": "markdown",
   "metadata": {},
   "source": [
    "## Parity Check"
   ]
  },
  {
   "cell_type": "code",
   "execution_count": null,
   "metadata": {},
   "outputs": [],
   "source": [
    "# States.\n",
    "states = {'U', 'V', 'A', 'R'}\n",
    "\n",
    "# Initial state.\n",
    "initial_state = 'U'\n",
    "\n",
    "# Final states.\n",
    "final_states = {'A', 'R'}\n",
    "\n",
    "# Position on the tape.\n",
    "pos = 0\n",
    "\n",
    "# Initial tape.\n",
    "tape = '_'\n",
    "\n",
    "# State table for an even parity checker.\n",
    "state_table = {\n",
    "    ('U', '0'): ('U', '0', 'R'),\n",
    "    ('U', '1'): ('V', '1', 'R'),\n",
    "    ('U', '_'): ('A', '_', 'L'),\n",
    "    ('V', '0'): ('V', '0', 'R'),\n",
    "    ('V', '1'): ('U', '1', 'R'),\n",
    "    ('V', '_'): ('F', '_', 'L'),\n",
    "}\n",
    "\n",
    "def L():\n",
    "    \"\"\"Move the machine head left.\"\"\"\n",
    "    global pos, tape\n",
    "    pos -= 1\n",
    "    if pos < 0:\n",
    "        pos = 0\n",
    "        tape = ['_'] + tape\n",
    "\n",
    "def R():\n",
    "    \"\"\"Move the machine head right.\"\"\"\n",
    "    global pos, tape\n",
    "    pos += 1\n",
    "    if pos >= len(tape):\n",
    "        tape = tape + ['_']\n",
    "\n",
    "\n",
    "def run():\n",
    "    global tape, pos\n",
    "    tape = list(tape)\n",
    "    state = initial_state\n",
    "    while state not in final_states:\n",
    "        symbol = tape[pos]\n",
    "        new_state, new_symbol, move = state_table[(state, symbol)]\n",
    "        tape[pos] = new_symbol\n",
    "        if move == 'L':\n",
    "            L()\n",
    "        elif move == 'R':\n",
    "            R()\n",
    "        state = new_state\n",
    "    return state\n"
   ]
  },
  {
   "cell_type": "code",
   "execution_count": 20,
   "metadata": {},
   "outputs": [
    {
     "data": {
      "text/plain": [
       "'A'"
      ]
     },
     "execution_count": 20,
     "metadata": {},
     "output_type": "execute_result"
    }
   ],
   "source": [
    "run()"
   ]
  },
  {
   "cell_type": "markdown",
   "metadata": {},
   "source": [
    "## End"
   ]
  }
 ],
 "metadata": {
  "kernelspec": {
   "display_name": "Python 3",
   "language": "python",
   "name": "python3"
  },
  "language_info": {
   "codemirror_mode": {
    "name": "ipython",
    "version": 3
   },
   "file_extension": ".py",
   "mimetype": "text/x-python",
   "name": "python",
   "nbconvert_exporter": "python",
   "pygments_lexer": "ipython3",
   "version": "3.12.1"
  }
 },
 "nbformat": 4,
 "nbformat_minor": 2
}
